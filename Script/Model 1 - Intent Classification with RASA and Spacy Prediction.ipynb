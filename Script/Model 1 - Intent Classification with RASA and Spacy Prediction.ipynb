{
 "cells": [
  {
   "cell_type": "markdown",
   "id": "e5d51aa4",
   "metadata": {},
   "source": [
    "# Objective: \n",
    "Predict the Intent of given text using RASA_intent_classification (saved model)"
   ]
  },
  {
   "cell_type": "code",
   "execution_count": 1,
   "id": "f3bbe540",
   "metadata": {},
   "outputs": [
    {
     "name": "stdout",
     "output_type": "stream",
     "text": [
      "Requirement already satisfied: rasa-nlu in c:\\users\\anjal\\.conda\\envs\\vinrn\\lib\\site-packages (0.15.1)\n",
      "Requirement already satisfied: cloudpickle~=0.6.1 in c:\\users\\anjal\\.conda\\envs\\vinrn\\lib\\site-packages (from rasa-nlu) (0.6.1)\n",
      "Requirement already satisfied: requests~=2.20 in c:\\users\\anjal\\.conda\\envs\\vinrn\\lib\\site-packages (from rasa-nlu) (2.27.1)\n",
      "Requirement already satisfied: coloredlogs~=10.0 in c:\\users\\anjal\\.conda\\envs\\vinrn\\lib\\site-packages (from rasa-nlu) (10.0)\n",
      "Requirement already satisfied: klein~=17.10 in c:\\users\\anjal\\.conda\\envs\\vinrn\\lib\\site-packages (from rasa-nlu) (17.10.0)\n",
      "Requirement already satisfied: boto3~=1.9 in c:\\users\\anjal\\.conda\\envs\\vinrn\\lib\\site-packages (from rasa-nlu) (1.23.10)\n",
      "Requirement already satisfied: future~=0.17.1 in c:\\users\\anjal\\.conda\\envs\\vinrn\\lib\\site-packages (from rasa-nlu) (0.17.1)\n",
      "Requirement already satisfied: scikit-learn~=0.20.2 in c:\\users\\anjal\\.conda\\envs\\vinrn\\lib\\site-packages (from rasa-nlu) (0.20.4)\n",
      "Requirement already satisfied: ruamel.yaml~=0.15.7 in c:\\users\\anjal\\.conda\\envs\\vinrn\\lib\\site-packages (from rasa-nlu) (0.15.100)\n",
      "Requirement already satisfied: simplejson~=3.13 in c:\\users\\anjal\\.conda\\envs\\vinrn\\lib\\site-packages (from rasa-nlu) (3.19.1)\n",
      "Requirement already satisfied: typing~=3.6 in c:\\users\\anjal\\.conda\\envs\\vinrn\\lib\\site-packages (from rasa-nlu) (3.7.4.3)\n",
      "Requirement already satisfied: tqdm~=4.19 in c:\\users\\anjal\\.conda\\envs\\vinrn\\lib\\site-packages (from rasa-nlu) (4.64.1)\n",
      "Collecting packaging~=18.0\n",
      "  Using cached packaging-18.0-py2.py3-none-any.whl (21 kB)\n",
      "Requirement already satisfied: gevent~=1.3 in c:\\users\\anjal\\.conda\\envs\\vinrn\\lib\\site-packages (from rasa-nlu) (1.5.0)\n",
      "Requirement already satisfied: jsonschema~=2.6 in c:\\users\\anjal\\.conda\\envs\\vinrn\\lib\\site-packages (from rasa-nlu) (2.6.0)\n",
      "Requirement already satisfied: numpy>=1.16 in c:\\users\\anjal\\.conda\\envs\\vinrn\\lib\\site-packages (from rasa-nlu) (1.19.5)\n",
      "Requirement already satisfied: matplotlib~=2.2 in c:\\users\\anjal\\.conda\\envs\\vinrn\\lib\\site-packages (from rasa-nlu) (2.2.5)\n",
      "Requirement already satisfied: jmespath<2.0.0,>=0.7.1 in c:\\users\\anjal\\.conda\\envs\\vinrn\\lib\\site-packages (from boto3~=1.9->rasa-nlu) (0.10.0)\n",
      "Requirement already satisfied: botocore<1.27.0,>=1.26.10 in c:\\users\\anjal\\.conda\\envs\\vinrn\\lib\\site-packages (from boto3~=1.9->rasa-nlu) (1.26.10)\n",
      "Requirement already satisfied: s3transfer<0.6.0,>=0.5.0 in c:\\users\\anjal\\.conda\\envs\\vinrn\\lib\\site-packages (from boto3~=1.9->rasa-nlu) (0.5.2)\n",
      "Requirement already satisfied: urllib3<1.27,>=1.25.4 in c:\\users\\anjal\\.conda\\envs\\vinrn\\lib\\site-packages (from botocore<1.27.0,>=1.26.10->boto3~=1.9->rasa-nlu) (1.26.15)\n",
      "Requirement already satisfied: python-dateutil<3.0.0,>=2.1 in c:\\users\\anjal\\.conda\\envs\\vinrn\\lib\\site-packages (from botocore<1.27.0,>=1.26.10->boto3~=1.9->rasa-nlu) (2.8.2)\n",
      "Requirement already satisfied: humanfriendly>=4.7 in c:\\users\\anjal\\.conda\\envs\\vinrn\\lib\\site-packages (from coloredlogs~=10.0->rasa-nlu) (10.0)\n",
      "Requirement already satisfied: colorama in c:\\users\\anjal\\.conda\\envs\\vinrn\\lib\\site-packages (from coloredlogs~=10.0->rasa-nlu) (0.4.4)\n",
      "Requirement already satisfied: greenlet>=0.4.14 in c:\\users\\anjal\\.conda\\envs\\vinrn\\lib\\site-packages (from gevent~=1.3->rasa-nlu) (2.0.2)\n",
      "Requirement already satisfied: cffi>=1.12.2 in c:\\users\\anjal\\.conda\\envs\\vinrn\\lib\\site-packages (from gevent~=1.3->rasa-nlu) (1.14.6)\n",
      "Requirement already satisfied: pycparser in c:\\users\\anjal\\.conda\\envs\\vinrn\\lib\\site-packages (from cffi>=1.12.2->gevent~=1.3->rasa-nlu) (2.21)\n",
      "Requirement already satisfied: pyreadline in c:\\users\\anjal\\.conda\\envs\\vinrn\\lib\\site-packages (from humanfriendly>=4.7->coloredlogs~=10.0->rasa-nlu) (2.1)\n",
      "Requirement already satisfied: six in c:\\users\\anjal\\.conda\\envs\\vinrn\\lib\\site-packages (from klein~=17.10->rasa-nlu) (1.16.0)\n",
      "Requirement already satisfied: Twisted>=15.5 in c:\\users\\anjal\\.conda\\envs\\vinrn\\lib\\site-packages (from klein~=17.10->rasa-nlu) (22.4.0)\n",
      "Requirement already satisfied: werkzeug in c:\\users\\anjal\\.conda\\envs\\vinrn\\lib\\site-packages (from klein~=17.10->rasa-nlu) (2.0.3)\n",
      "Requirement already satisfied: incremental in c:\\users\\anjal\\.conda\\envs\\vinrn\\lib\\site-packages (from klein~=17.10->rasa-nlu) (22.10.0)\n",
      "Requirement already satisfied: pytz in c:\\users\\anjal\\.conda\\envs\\vinrn\\lib\\site-packages (from matplotlib~=2.2->rasa-nlu) (2023.3)\n",
      "Requirement already satisfied: kiwisolver>=1.0.1 in c:\\users\\anjal\\.conda\\envs\\vinrn\\lib\\site-packages (from matplotlib~=2.2->rasa-nlu) (1.3.1)\n",
      "Requirement already satisfied: pyparsing!=2.0.4,!=2.1.2,!=2.1.6,>=2.0.1 in c:\\users\\anjal\\.conda\\envs\\vinrn\\lib\\site-packages (from matplotlib~=2.2->rasa-nlu) (3.0.4)\n",
      "Requirement already satisfied: cycler>=0.10 in c:\\users\\anjal\\.conda\\envs\\vinrn\\lib\\site-packages (from matplotlib~=2.2->rasa-nlu) (0.11.0)\n",
      "Requirement already satisfied: idna<4,>=2.5 in c:\\users\\anjal\\.conda\\envs\\vinrn\\lib\\site-packages (from requests~=2.20->rasa-nlu) (3.4)\n",
      "Requirement already satisfied: certifi>=2017.4.17 in c:\\users\\anjal\\.conda\\envs\\vinrn\\lib\\site-packages (from requests~=2.20->rasa-nlu) (2021.5.30)\n",
      "Requirement already satisfied: charset-normalizer~=2.0.0 in c:\\users\\anjal\\.conda\\envs\\vinrn\\lib\\site-packages (from requests~=2.20->rasa-nlu) (2.0.12)\n",
      "Requirement already satisfied: scipy>=0.13.3 in c:\\users\\anjal\\.conda\\envs\\vinrn\\lib\\site-packages (from scikit-learn~=0.20.2->rasa-nlu) (1.5.4)\n",
      "Requirement already satisfied: importlib-resources in c:\\users\\anjal\\.conda\\envs\\vinrn\\lib\\site-packages (from tqdm~=4.19->rasa-nlu) (5.4.0)\n",
      "Requirement already satisfied: typing-extensions>=3.6.5 in c:\\users\\anjal\\.conda\\envs\\vinrn\\lib\\site-packages (from Twisted>=15.5->klein~=17.10->rasa-nlu) (4.1.1)\n",
      "Requirement already satisfied: twisted-iocpsupport<2,>=1.0.2 in c:\\users\\anjal\\.conda\\envs\\vinrn\\lib\\site-packages (from Twisted>=15.5->klein~=17.10->rasa-nlu) (1.0.3)\n",
      "Requirement already satisfied: hyperlink>=17.1.1 in c:\\users\\anjal\\.conda\\envs\\vinrn\\lib\\site-packages (from Twisted>=15.5->klein~=17.10->rasa-nlu) (21.0.0)\n",
      "Requirement already satisfied: Automat>=0.8.0 in c:\\users\\anjal\\.conda\\envs\\vinrn\\lib\\site-packages (from Twisted>=15.5->klein~=17.10->rasa-nlu) (22.10.0)\n",
      "Requirement already satisfied: attrs>=19.2.0 in c:\\users\\anjal\\.conda\\envs\\vinrn\\lib\\site-packages (from Twisted>=15.5->klein~=17.10->rasa-nlu) (21.4.0)\n",
      "Requirement already satisfied: constantly>=15.1 in c:\\users\\anjal\\.conda\\envs\\vinrn\\lib\\site-packages (from Twisted>=15.5->klein~=17.10->rasa-nlu) (15.1.0)\n",
      "Requirement already satisfied: zope.interface>=4.4.2 in c:\\users\\anjal\\.conda\\envs\\vinrn\\lib\\site-packages (from Twisted>=15.5->klein~=17.10->rasa-nlu) (5.5.2)\n",
      "Requirement already satisfied: setuptools in c:\\users\\anjal\\.conda\\envs\\vinrn\\lib\\site-packages (from zope.interface>=4.4.2->Twisted>=15.5->klein~=17.10->rasa-nlu) (58.0.4)\n",
      "Requirement already satisfied: zipp>=3.1.0 in c:\\users\\anjal\\.conda\\envs\\vinrn\\lib\\site-packages (from importlib-resources->tqdm~=4.19->rasa-nlu) (3.6.0)\n",
      "Requirement already satisfied: dataclasses in c:\\users\\anjal\\.conda\\envs\\vinrn\\lib\\site-packages (from werkzeug->klein~=17.10->rasa-nlu) (0.8)\n",
      "Installing collected packages: packaging\n",
      "  Attempting uninstall: packaging\n",
      "    Found existing installation: packaging 21.3\n",
      "    Uninstalling packaging-21.3:\n",
      "      Successfully uninstalled packaging-21.3\n",
      "Successfully installed packaging-18.0\n"
     ]
    },
    {
     "name": "stderr",
     "output_type": "stream",
     "text": [
      "ERROR: pip's dependency resolver does not currently take into account all the packages that are installed. This behaviour is the source of the following dependency conflicts.\n",
      "thinc 8.1.10 requires packaging>=20.0, but you have packaging 18.0 which is incompatible.\n",
      "spacy 3.5.2 requires packaging>=20.0, but you have packaging 18.0 which is incompatible.\n"
     ]
    },
    {
     "name": "stdout",
     "output_type": "stream",
     "text": [
      "Requirement already satisfied: sklearn_crfsuite in c:\\users\\anjal\\.conda\\envs\\vinrn\\lib\\site-packages (0.3.6)\n",
      "Requirement already satisfied: python-crfsuite>=0.8.3 in c:\\users\\anjal\\.conda\\envs\\vinrn\\lib\\site-packages (from sklearn_crfsuite) (0.9.9)\n",
      "Requirement already satisfied: tqdm>=2.0 in c:\\users\\anjal\\.conda\\envs\\vinrn\\lib\\site-packages (from sklearn_crfsuite) (4.64.1)\n",
      "Requirement already satisfied: tabulate in c:\\users\\anjal\\.conda\\envs\\vinrn\\lib\\site-packages (from sklearn_crfsuite) (0.8.10)\n",
      "Requirement already satisfied: six in c:\\users\\anjal\\.conda\\envs\\vinrn\\lib\\site-packages (from sklearn_crfsuite) (1.16.0)\n",
      "Requirement already satisfied: importlib-resources in c:\\users\\anjal\\.conda\\envs\\vinrn\\lib\\site-packages (from tqdm>=2.0->sklearn_crfsuite) (5.4.0)\n",
      "Requirement already satisfied: colorama in c:\\users\\anjal\\.conda\\envs\\vinrn\\lib\\site-packages (from tqdm>=2.0->sklearn_crfsuite) (0.4.4)\n",
      "Requirement already satisfied: zipp>=3.1.0 in c:\\users\\anjal\\.conda\\envs\\vinrn\\lib\\site-packages (from importlib-resources->tqdm>=2.0->sklearn_crfsuite) (3.6.0)\n",
      "Requirement already satisfied: spacy in c:\\users\\anjal\\.conda\\envs\\vinrn\\lib\\site-packages (3.5.2)\n",
      "Requirement already satisfied: typing-extensions<4.5.0,>=3.7.4.1 in c:\\users\\anjal\\.conda\\envs\\vinrn\\lib\\site-packages (from spacy) (4.1.1)\n",
      "Requirement already satisfied: murmurhash<1.1.0,>=0.28.0 in c:\\users\\anjal\\.conda\\envs\\vinrn\\lib\\site-packages (from spacy) (1.0.9)\n",
      "Requirement already satisfied: smart-open<7.0.0,>=5.2.1 in c:\\users\\anjal\\.conda\\envs\\vinrn\\lib\\site-packages (from spacy) (6.3.0)\n",
      "Requirement already satisfied: jinja2 in c:\\users\\anjal\\.conda\\envs\\vinrn\\lib\\site-packages (from spacy) (3.0.3)\n",
      "Requirement already satisfied: pydantic!=1.8,!=1.8.1,<1.11.0,>=1.7.4 in c:\\users\\anjal\\.conda\\envs\\vinrn\\lib\\site-packages (from spacy) (1.9.2)\n",
      "Requirement already satisfied: spacy-loggers<2.0.0,>=1.0.0 in c:\\users\\anjal\\.conda\\envs\\vinrn\\lib\\site-packages (from spacy) (1.0.4)\n",
      "Collecting packaging>=20.0\n",
      "  Using cached packaging-21.3-py3-none-any.whl (40 kB)\n",
      "Requirement already satisfied: langcodes<4.0.0,>=3.2.0 in c:\\users\\anjal\\.conda\\envs\\vinrn\\lib\\site-packages (from spacy) (3.3.0)\n",
      "Requirement already satisfied: thinc<8.2.0,>=8.1.8 in c:\\users\\anjal\\.conda\\envs\\vinrn\\lib\\site-packages (from spacy) (8.1.10)\n",
      "Requirement already satisfied: setuptools in c:\\users\\anjal\\.conda\\envs\\vinrn\\lib\\site-packages (from spacy) (58.0.4)\n",
      "Requirement already satisfied: catalogue<2.1.0,>=2.0.6 in c:\\users\\anjal\\.conda\\envs\\vinrn\\lib\\site-packages (from spacy) (2.0.8)\n",
      "Requirement already satisfied: requests<3.0.0,>=2.13.0 in c:\\users\\anjal\\.conda\\envs\\vinrn\\lib\\site-packages (from spacy) (2.27.1)\n",
      "Requirement already satisfied: spacy-legacy<3.1.0,>=3.0.11 in c:\\users\\anjal\\.conda\\envs\\vinrn\\lib\\site-packages (from spacy) (3.0.12)\n",
      "Requirement already satisfied: cymem<2.1.0,>=2.0.2 in c:\\users\\anjal\\.conda\\envs\\vinrn\\lib\\site-packages (from spacy) (2.0.7)\n",
      "Requirement already satisfied: pathy>=0.10.0 in c:\\users\\anjal\\.conda\\envs\\vinrn\\lib\\site-packages (from spacy) (0.10.1)\n",
      "Requirement already satisfied: numpy>=1.15.0 in c:\\users\\anjal\\.conda\\envs\\vinrn\\lib\\site-packages (from spacy) (1.19.5)\n",
      "Requirement already satisfied: tqdm<5.0.0,>=4.38.0 in c:\\users\\anjal\\.conda\\envs\\vinrn\\lib\\site-packages (from spacy) (4.64.1)\n",
      "Requirement already satisfied: preshed<3.1.0,>=3.0.2 in c:\\users\\anjal\\.conda\\envs\\vinrn\\lib\\site-packages (from spacy) (3.0.8)\n",
      "Requirement already satisfied: wasabi<1.2.0,>=0.9.1 in c:\\users\\anjal\\.conda\\envs\\vinrn\\lib\\site-packages (from spacy) (1.1.1)\n",
      "Requirement already satisfied: srsly<3.0.0,>=2.4.3 in c:\\users\\anjal\\.conda\\envs\\vinrn\\lib\\site-packages (from spacy) (2.4.6)\n",
      "Requirement already satisfied: typer<0.8.0,>=0.3.0 in c:\\users\\anjal\\.conda\\envs\\vinrn\\lib\\site-packages (from spacy) (0.7.0)\n",
      "Requirement already satisfied: zipp>=0.5 in c:\\users\\anjal\\.conda\\envs\\vinrn\\lib\\site-packages (from catalogue<2.1.0,>=2.0.6->spacy) (3.6.0)\n",
      "Requirement already satisfied: pyparsing!=3.0.5,>=2.0.2 in c:\\users\\anjal\\.conda\\envs\\vinrn\\lib\\site-packages (from packaging>=20.0->spacy) (3.0.4)\n",
      "Requirement already satisfied: dataclasses<1.0,>=0.6 in c:\\users\\anjal\\.conda\\envs\\vinrn\\lib\\site-packages (from pathy>=0.10.0->spacy) (0.8)\n",
      "Requirement already satisfied: idna<4,>=2.5 in c:\\users\\anjal\\.conda\\envs\\vinrn\\lib\\site-packages (from requests<3.0.0,>=2.13.0->spacy) (3.4)\n",
      "Requirement already satisfied: certifi>=2017.4.17 in c:\\users\\anjal\\.conda\\envs\\vinrn\\lib\\site-packages (from requests<3.0.0,>=2.13.0->spacy) (2021.5.30)\n",
      "Requirement already satisfied: urllib3<1.27,>=1.21.1 in c:\\users\\anjal\\.conda\\envs\\vinrn\\lib\\site-packages (from requests<3.0.0,>=2.13.0->spacy) (1.26.15)\n",
      "Requirement already satisfied: charset-normalizer~=2.0.0 in c:\\users\\anjal\\.conda\\envs\\vinrn\\lib\\site-packages (from requests<3.0.0,>=2.13.0->spacy) (2.0.12)\n",
      "Requirement already satisfied: blis<0.8.0,>=0.7.8 in c:\\users\\anjal\\.conda\\envs\\vinrn\\lib\\site-packages (from thinc<8.2.0,>=8.1.8->spacy) (0.7.9)\n",
      "Requirement already satisfied: confection<1.0.0,>=0.0.1 in c:\\users\\anjal\\.conda\\envs\\vinrn\\lib\\site-packages (from thinc<8.2.0,>=8.1.8->spacy) (0.0.4)\n",
      "Requirement already satisfied: contextvars<3,>=2.4 in c:\\users\\anjal\\.conda\\envs\\vinrn\\lib\\site-packages (from thinc<8.2.0,>=8.1.8->spacy) (2.4)\n",
      "Requirement already satisfied: immutables>=0.9 in c:\\users\\anjal\\.conda\\envs\\vinrn\\lib\\site-packages (from contextvars<3,>=2.4->thinc<8.2.0,>=8.1.8->spacy) (0.19)\n",
      "Requirement already satisfied: importlib-resources in c:\\users\\anjal\\.conda\\envs\\vinrn\\lib\\site-packages (from tqdm<5.0.0,>=4.38.0->spacy) (5.4.0)\n",
      "Requirement already satisfied: colorama in c:\\users\\anjal\\.conda\\envs\\vinrn\\lib\\site-packages (from tqdm<5.0.0,>=4.38.0->spacy) (0.4.4)\n",
      "Requirement already satisfied: click<9.0.0,>=7.1.1 in c:\\users\\anjal\\.conda\\envs\\vinrn\\lib\\site-packages (from typer<0.8.0,>=0.3.0->spacy) (8.0.4)\n",
      "Requirement already satisfied: importlib-metadata in c:\\users\\anjal\\.conda\\envs\\vinrn\\lib\\site-packages (from click<9.0.0,>=7.1.1->typer<0.8.0,>=0.3.0->spacy) (4.8.3)\n",
      "Requirement already satisfied: MarkupSafe>=2.0 in c:\\users\\anjal\\.conda\\envs\\vinrn\\lib\\site-packages (from jinja2->spacy) (2.0.1)\n",
      "Installing collected packages: packaging\n",
      "  Attempting uninstall: packaging\n",
      "    Found existing installation: packaging 18.0\n",
      "    Uninstalling packaging-18.0:\n",
      "      Successfully uninstalled packaging-18.0\n",
      "Successfully installed packaging-21.3\n"
     ]
    },
    {
     "name": "stderr",
     "output_type": "stream",
     "text": [
      "ERROR: pip's dependency resolver does not currently take into account all the packages that are installed. This behaviour is the source of the following dependency conflicts.\n",
      "rasa-nlu 0.15.1 requires packaging~=18.0, but you have packaging 21.3 which is incompatible.\n"
     ]
    },
    {
     "name": "stdout",
     "output_type": "stream",
     "text": [
      "Collecting en-core-web-sm==3.5.0\n",
      "  Downloading https://github.com/explosion/spacy-models/releases/download/en_core_web_sm-3.5.0/en_core_web_sm-3.5.0-py3-none-any.whl (12.8 MB)\n",
      "Requirement already satisfied: spacy<3.6.0,>=3.5.0 in c:\\users\\anjal\\.conda\\envs\\vinrn\\lib\\site-packages (from en-core-web-sm==3.5.0) (3.5.2)\n",
      "Requirement already satisfied: smart-open<7.0.0,>=5.2.1 in c:\\users\\anjal\\.conda\\envs\\vinrn\\lib\\site-packages (from spacy<3.6.0,>=3.5.0->en-core-web-sm==3.5.0) (6.3.0)\n",
      "Requirement already satisfied: typer<0.8.0,>=0.3.0 in c:\\users\\anjal\\.conda\\envs\\vinrn\\lib\\site-packages (from spacy<3.6.0,>=3.5.0->en-core-web-sm==3.5.0) (0.7.0)\n",
      "Requirement already satisfied: tqdm<5.0.0,>=4.38.0 in c:\\users\\anjal\\.conda\\envs\\vinrn\\lib\\site-packages (from spacy<3.6.0,>=3.5.0->en-core-web-sm==3.5.0) (4.64.1)\n",
      "Requirement already satisfied: pathy>=0.10.0 in c:\\users\\anjal\\.conda\\envs\\vinrn\\lib\\site-packages (from spacy<3.6.0,>=3.5.0->en-core-web-sm==3.5.0) (0.10.1)\n",
      "Requirement already satisfied: preshed<3.1.0,>=3.0.2 in c:\\users\\anjal\\.conda\\envs\\vinrn\\lib\\site-packages (from spacy<3.6.0,>=3.5.0->en-core-web-sm==3.5.0) (3.0.8)\n",
      "Requirement already satisfied: thinc<8.2.0,>=8.1.8 in c:\\users\\anjal\\.conda\\envs\\vinrn\\lib\\site-packages (from spacy<3.6.0,>=3.5.0->en-core-web-sm==3.5.0) (8.1.10)\n",
      "Requirement already satisfied: spacy-legacy<3.1.0,>=3.0.11 in c:\\users\\anjal\\.conda\\envs\\vinrn\\lib\\site-packages (from spacy<3.6.0,>=3.5.0->en-core-web-sm==3.5.0) (3.0.12)\n",
      "Requirement already satisfied: catalogue<2.1.0,>=2.0.6 in c:\\users\\anjal\\.conda\\envs\\vinrn\\lib\\site-packages (from spacy<3.6.0,>=3.5.0->en-core-web-sm==3.5.0) (2.0.8)\n",
      "Requirement already satisfied: murmurhash<1.1.0,>=0.28.0 in c:\\users\\anjal\\.conda\\envs\\vinrn\\lib\\site-packages (from spacy<3.6.0,>=3.5.0->en-core-web-sm==3.5.0) (1.0.9)\n",
      "Requirement already satisfied: requests<3.0.0,>=2.13.0 in c:\\users\\anjal\\.conda\\envs\\vinrn\\lib\\site-packages (from spacy<3.6.0,>=3.5.0->en-core-web-sm==3.5.0) (2.27.1)\n",
      "Requirement already satisfied: pydantic!=1.8,!=1.8.1,<1.11.0,>=1.7.4 in c:\\users\\anjal\\.conda\\envs\\vinrn\\lib\\site-packages (from spacy<3.6.0,>=3.5.0->en-core-web-sm==3.5.0) (1.9.2)\n",
      "Requirement already satisfied: srsly<3.0.0,>=2.4.3 in c:\\users\\anjal\\.conda\\envs\\vinrn\\lib\\site-packages (from spacy<3.6.0,>=3.5.0->en-core-web-sm==3.5.0) (2.4.6)\n",
      "Requirement already satisfied: numpy>=1.15.0 in c:\\users\\anjal\\.conda\\envs\\vinrn\\lib\\site-packages (from spacy<3.6.0,>=3.5.0->en-core-web-sm==3.5.0) (1.19.5)\n",
      "Requirement already satisfied: wasabi<1.2.0,>=0.9.1 in c:\\users\\anjal\\.conda\\envs\\vinrn\\lib\\site-packages (from spacy<3.6.0,>=3.5.0->en-core-web-sm==3.5.0) (1.1.1)\n",
      "Requirement already satisfied: typing-extensions<4.5.0,>=3.7.4.1 in c:\\users\\anjal\\.conda\\envs\\vinrn\\lib\\site-packages (from spacy<3.6.0,>=3.5.0->en-core-web-sm==3.5.0) (4.1.1)\n",
      "Requirement already satisfied: spacy-loggers<2.0.0,>=1.0.0 in c:\\users\\anjal\\.conda\\envs\\vinrn\\lib\\site-packages (from spacy<3.6.0,>=3.5.0->en-core-web-sm==3.5.0) (1.0.4)\n",
      "Requirement already satisfied: packaging>=20.0 in c:\\users\\anjal\\.conda\\envs\\vinrn\\lib\\site-packages (from spacy<3.6.0,>=3.5.0->en-core-web-sm==3.5.0) (21.3)\n",
      "Requirement already satisfied: cymem<2.1.0,>=2.0.2 in c:\\users\\anjal\\.conda\\envs\\vinrn\\lib\\site-packages (from spacy<3.6.0,>=3.5.0->en-core-web-sm==3.5.0) (2.0.7)\n",
      "Requirement already satisfied: jinja2 in c:\\users\\anjal\\.conda\\envs\\vinrn\\lib\\site-packages (from spacy<3.6.0,>=3.5.0->en-core-web-sm==3.5.0) (3.0.3)\n",
      "Requirement already satisfied: setuptools in c:\\users\\anjal\\.conda\\envs\\vinrn\\lib\\site-packages (from spacy<3.6.0,>=3.5.0->en-core-web-sm==3.5.0) (58.0.4)\n",
      "Requirement already satisfied: langcodes<4.0.0,>=3.2.0 in c:\\users\\anjal\\.conda\\envs\\vinrn\\lib\\site-packages (from spacy<3.6.0,>=3.5.0->en-core-web-sm==3.5.0) (3.3.0)\n",
      "Requirement already satisfied: zipp>=0.5 in c:\\users\\anjal\\.conda\\envs\\vinrn\\lib\\site-packages (from catalogue<2.1.0,>=2.0.6->spacy<3.6.0,>=3.5.0->en-core-web-sm==3.5.0) (3.6.0)\n",
      "Requirement already satisfied: pyparsing!=3.0.5,>=2.0.2 in c:\\users\\anjal\\.conda\\envs\\vinrn\\lib\\site-packages (from packaging>=20.0->spacy<3.6.0,>=3.5.0->en-core-web-sm==3.5.0) (3.0.4)\n",
      "Requirement already satisfied: dataclasses<1.0,>=0.6 in c:\\users\\anjal\\.conda\\envs\\vinrn\\lib\\site-packages (from pathy>=0.10.0->spacy<3.6.0,>=3.5.0->en-core-web-sm==3.5.0) (0.8)\n",
      "Requirement already satisfied: idna<4,>=2.5 in c:\\users\\anjal\\.conda\\envs\\vinrn\\lib\\site-packages (from requests<3.0.0,>=2.13.0->spacy<3.6.0,>=3.5.0->en-core-web-sm==3.5.0) (3.4)\n",
      "Requirement already satisfied: charset-normalizer~=2.0.0 in c:\\users\\anjal\\.conda\\envs\\vinrn\\lib\\site-packages (from requests<3.0.0,>=2.13.0->spacy<3.6.0,>=3.5.0->en-core-web-sm==3.5.0) (2.0.12)\n",
      "Requirement already satisfied: certifi>=2017.4.17 in c:\\users\\anjal\\.conda\\envs\\vinrn\\lib\\site-packages (from requests<3.0.0,>=2.13.0->spacy<3.6.0,>=3.5.0->en-core-web-sm==3.5.0) (2021.5.30)\n",
      "Requirement already satisfied: urllib3<1.27,>=1.21.1 in c:\\users\\anjal\\.conda\\envs\\vinrn\\lib\\site-packages (from requests<3.0.0,>=2.13.0->spacy<3.6.0,>=3.5.0->en-core-web-sm==3.5.0) (1.26.15)\n",
      "Requirement already satisfied: contextvars<3,>=2.4 in c:\\users\\anjal\\.conda\\envs\\vinrn\\lib\\site-packages (from thinc<8.2.0,>=8.1.8->spacy<3.6.0,>=3.5.0->en-core-web-sm==3.5.0) (2.4)\n",
      "Requirement already satisfied: blis<0.8.0,>=0.7.8 in c:\\users\\anjal\\.conda\\envs\\vinrn\\lib\\site-packages (from thinc<8.2.0,>=8.1.8->spacy<3.6.0,>=3.5.0->en-core-web-sm==3.5.0) (0.7.9)\n",
      "Requirement already satisfied: confection<1.0.0,>=0.0.1 in c:\\users\\anjal\\.conda\\envs\\vinrn\\lib\\site-packages (from thinc<8.2.0,>=8.1.8->spacy<3.6.0,>=3.5.0->en-core-web-sm==3.5.0) (0.0.4)\n",
      "Requirement already satisfied: immutables>=0.9 in c:\\users\\anjal\\.conda\\envs\\vinrn\\lib\\site-packages (from contextvars<3,>=2.4->thinc<8.2.0,>=8.1.8->spacy<3.6.0,>=3.5.0->en-core-web-sm==3.5.0) (0.19)\n",
      "Requirement already satisfied: colorama in c:\\users\\anjal\\.conda\\envs\\vinrn\\lib\\site-packages (from tqdm<5.0.0,>=4.38.0->spacy<3.6.0,>=3.5.0->en-core-web-sm==3.5.0) (0.4.4)\n",
      "Requirement already satisfied: importlib-resources in c:\\users\\anjal\\.conda\\envs\\vinrn\\lib\\site-packages (from tqdm<5.0.0,>=4.38.0->spacy<3.6.0,>=3.5.0->en-core-web-sm==3.5.0) (5.4.0)\n",
      "Requirement already satisfied: click<9.0.0,>=7.1.1 in c:\\users\\anjal\\.conda\\envs\\vinrn\\lib\\site-packages (from typer<0.8.0,>=0.3.0->spacy<3.6.0,>=3.5.0->en-core-web-sm==3.5.0) (8.0.4)\n",
      "Requirement already satisfied: importlib-metadata in c:\\users\\anjal\\.conda\\envs\\vinrn\\lib\\site-packages (from click<9.0.0,>=7.1.1->typer<0.8.0,>=0.3.0->spacy<3.6.0,>=3.5.0->en-core-web-sm==3.5.0) (4.8.3)\n",
      "Requirement already satisfied: MarkupSafe>=2.0 in c:\\users\\anjal\\.conda\\envs\\vinrn\\lib\\site-packages (from jinja2->spacy<3.6.0,>=3.5.0->en-core-web-sm==3.5.0) (2.0.1)\n",
      "[+] Download and installation successful\n",
      "You can now load the package via spacy.load('en_core_web_sm')\n",
      "Requirement already satisfied: pandas in c:\\users\\anjal\\.conda\\envs\\vinrn\\lib\\site-packages (1.1.5)\n",
      "Requirement already satisfied: numpy>=1.15.4 in c:\\users\\anjal\\.conda\\envs\\vinrn\\lib\\site-packages (from pandas) (1.19.5)\n",
      "Requirement already satisfied: pytz>=2017.2 in c:\\users\\anjal\\.conda\\envs\\vinrn\\lib\\site-packages (from pandas) (2023.3)\n",
      "Requirement already satisfied: python-dateutil>=2.7.3 in c:\\users\\anjal\\.conda\\envs\\vinrn\\lib\\site-packages (from pandas) (2.8.2)\n",
      "Requirement already satisfied: six>=1.5 in c:\\users\\anjal\\.conda\\envs\\vinrn\\lib\\site-packages (from python-dateutil>=2.7.3->pandas) (1.16.0)\n"
     ]
    }
   ],
   "source": [
    "! pip install rasa-nlu\n",
    "! pip install sklearn_crfsuite\n",
    "! pip install spacy\n",
    "! python -m spacy download en_core_web_sm\n",
    "! pip install pandas"
   ]
  },
  {
   "cell_type": "code",
   "execution_count": 2,
   "id": "28a1b26d",
   "metadata": {},
   "outputs": [],
   "source": [
    "# Making Predictions With Model\n",
    "\n",
    "from rasa_nlu.model import Interpreter\n",
    "\n",
    "# Directory path to saved model\n",
    "\n",
    "#update the model_directory location where you saved RASA_intent_classification folder\n",
    "model_directory = r'D:/RASA_intent_classification/'\n",
    "\n",
    "#Load model\n",
    "interpreter = Interpreter.load(model_directory)\n",
    "\n",
    "def predict_intent(input_text,interpreter):\n",
    "    \n",
    "    # Prediction of Intent\n",
    "    predictions = interpreter.parse(input_text)\n",
    "    \n",
    "    return input_text,predictions['intent']['name'],predictions['intent']['confidence']\n",
    "    "
   ]
  },
  {
   "cell_type": "code",
   "execution_count": 3,
   "id": "195e264b",
   "metadata": {},
   "outputs": [
    {
     "data": {
      "text/plain": [
       "('what expression would i use to say i love you if i were an italian',\n",
       " 'translate',\n",
       " 0.23419983153860893)"
      ]
     },
     "execution_count": 3,
     "metadata": {},
     "output_type": "execute_result"
    }
   ],
   "source": [
    "input_text = 'what expression would i use to say i love you if i were an italian'\n",
    "text, predicted_intent, probability = predict_intent(input_text,interpreter)\n",
    "text, predicted_intent, probability"
   ]
  },
  {
   "cell_type": "markdown",
   "id": "e85d4df9",
   "metadata": {},
   "source": [
    "# Prediction from CSV file"
   ]
  },
  {
   "cell_type": "code",
   "execution_count": 4,
   "id": "864b2a85",
   "metadata": {},
   "outputs": [],
   "source": [
    "import pandas as pd\n",
    "\n",
    "#update Data Location\n",
    "DATA_PATH = 'D:/'\n",
    "\n",
    "# load csv file to predict the intent\n",
    "test_df = pd.read_csv(DATA_PATH+'test.csv')\n",
    "\n",
    "prediction_df = pd.DataFrame(columns=['text','predicted_intent','probability'])\n",
    "\n",
    "for index,row in test_df.iterrows():\n",
    "    text, predicted_intent, probability = predict_intent(row.text,interpreter)\n",
    "\n",
    "    prediction_df = prediction_df.append(pd.DataFrame([[text, predicted_intent, probability]], columns=prediction_df.columns))\n",
    "\n",
    "prediction_df.to_csv(DATA_PATH+'predicted_results.csv')"
   ]
  },
  {
   "cell_type": "code",
   "execution_count": null,
   "id": "b68fbe6e",
   "metadata": {},
   "outputs": [],
   "source": []
  }
 ],
 "metadata": {
  "kernelspec": {
   "display_name": "Python 3",
   "language": "python",
   "name": "python3"
  },
  "language_info": {
   "codemirror_mode": {
    "name": "ipython",
    "version": 3
   },
   "file_extension": ".py",
   "mimetype": "text/x-python",
   "name": "python",
   "nbconvert_exporter": "python",
   "pygments_lexer": "ipython3",
   "version": "3.6.13"
  }
 },
 "nbformat": 4,
 "nbformat_minor": 5
}
