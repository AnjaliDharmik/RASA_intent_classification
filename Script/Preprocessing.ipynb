{
 "cells": [
  {
   "cell_type": "markdown",
   "id": "8740e62c",
   "metadata": {},
   "source": [
    "# Import Libraries"
   ]
  },
  {
   "cell_type": "code",
   "execution_count": 1,
   "id": "136bc7cb",
   "metadata": {},
   "outputs": [],
   "source": [
    "import pandas as pd"
   ]
  },
  {
   "cell_type": "code",
   "execution_count": 2,
   "id": "031ae393",
   "metadata": {},
   "outputs": [],
   "source": [
    "DATA_PATH = '<update path>'"
   ]
  },
  {
   "cell_type": "markdown",
   "id": "656b5138",
   "metadata": {},
   "source": [
    "# Load Datasets"
   ]
  },
  {
   "cell_type": "code",
   "execution_count": 3,
   "id": "5f8c861f",
   "metadata": {},
   "outputs": [],
   "source": [
    "train_df = pd.read_csv(DATA_PATH+'<update filename>.csv')"
   ]
  },
  {
   "cell_type": "markdown",
   "id": "b51ca9dc",
   "metadata": {},
   "source": [
    "# Lowering the Text\n"
   ]
  },
  {
   "cell_type": "code",
   "execution_count": 4,
   "id": "ae893534",
   "metadata": {},
   "outputs": [
    {
     "data": {
      "text/plain": [
       "'what expression would i use to say i love you if i were an italian?'"
      ]
     },
     "execution_count": 4,
     "metadata": {},
     "output_type": "execute_result"
    }
   ],
   "source": [
    "train_df['text'] = train_df['text'].apply(lambda x: x.lower())\n",
    "train_df['text'][0]"
   ]
  },
  {
   "cell_type": "markdown",
   "id": "fb51e2b5",
   "metadata": {},
   "source": [
    "# Punctuation Removal"
   ]
  },
  {
   "cell_type": "code",
   "execution_count": 5,
   "id": "24ae7d1e",
   "metadata": {},
   "outputs": [],
   "source": [
    "#library that contains punctuation\n",
    "import string\n",
    "string.punctuation\n",
    "\n",
    "#defining the function to remove punctuation\n",
    "def remove_punctuation(text):\n",
    "    punctuationfree=\"\".join([i for i in text if i not in string.punctuation])\n",
    "    return punctuationfree\n",
    "\n",
    "#storing the puntuation free text\n",
    "train_df['text'] = train_df['text'].replace('?','')\n",
    "train_df['text'] = train_df['text'].apply(lambda x:remove_punctuation(x))"
   ]
  },
  {
   "cell_type": "code",
   "execution_count": 6,
   "id": "5d1d0880",
   "metadata": {},
   "outputs": [],
   "source": [
    "train_df.to_csv(DATA_PATH+'train_preprocessed.csv',index=False)"
   ]
  },
  {
   "cell_type": "code",
   "execution_count": null,
   "id": "ee8ff06d",
   "metadata": {},
   "outputs": [],
   "source": []
  }
 ],
 "metadata": {
  "kernelspec": {
   "display_name": "Python 3",
   "language": "python",
   "name": "python3"
  },
  "language_info": {
   "codemirror_mode": {
    "name": "ipython",
    "version": 3
   },
   "file_extension": ".py",
   "mimetype": "text/x-python",
   "name": "python",
   "nbconvert_exporter": "python",
   "pygments_lexer": "ipython3",
   "version": "3.6.13"
  }
 },
 "nbformat": 4,
 "nbformat_minor": 5
}
